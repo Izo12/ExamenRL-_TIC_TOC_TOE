{
 "cells": [
  {
   "cell_type": "code",
   "execution_count": 1,
   "id": "0abb5bef",
   "metadata": {
    "scrolled": true
   },
   "outputs": [
    {
     "name": "stdout",
     "output_type": "stream",
     "text": [
      "pygame 2.5.2 (SDL 2.28.3, Python 3.11.4)\n",
      "Hello from the pygame community. https://www.pygame.org/contribute.html\n"
     ]
    }
   ],
   "source": [
    "import pygame as p\n",
    "from pygame.locals import *\n",
    "import time"
   ]
  },
  {
   "cell_type": "code",
   "execution_count": 2,
   "id": "6f8fdd4f",
   "metadata": {},
   "outputs": [],
   "source": [
    "screen_width , screen_height = 600 , 600\n",
    "clicked = False\n",
    "winner = 1\n",
    "game_over = False\n",
    "player1 = 1\n",
    "# Colors\n",
    "green = (0,255,0)\n",
    "white = (255,255,255)\n",
    "black = (0,0,0)\n",
    "red = (255,0,0)"
   ]
  },
  {
   "cell_type": "code",
   "execution_count": 3,
   "id": "3381f505",
   "metadata": {
    "scrolled": true
   },
   "outputs": [],
   "source": [
    "p.init()\n",
    "screen = p.display.set_mode((screen_width,screen_height))\n",
    "p.display.set_caption(\"Tic Tac Toe Game\")"
   ]
  },
  {
   "cell_type": "code",
   "execution_count": 4,
   "id": "4347332d",
   "metadata": {},
   "outputs": [],
   "source": [
    "def gameGUI():\n",
    "    screen.fill(white)\n",
    "    # draw lines tree times from 1 and by x and y axisb\n",
    "    for i in range(1,3):\n",
    "        p.draw.line(screen, black,(0, i*200), (screen_width, i*200),10)        \n",
    "        p.draw.line(screen, black,(i*200, 0), (i*200, screen_height),10)"
   ]
  },
  {
   "cell_type": "code",
   "execution_count": 5,
   "id": "d7c2ebee",
   "metadata": {},
   "outputs": [],
   "source": [
    "def check_CLicked():\n",
    "    markers = []\n",
    "    for i in range(3):\n",
    "        row = [0] * 3\n",
    "        markers.append(row)\n",
    "    return markers"
   ]
  },
  {
   "cell_type": "code",
   "execution_count": null,
   "id": "ee0ef108",
   "metadata": {},
   "outputs": [],
   "source": [
    "class AgenRL():"
   ]
  },
  {
   "cell_type": "code",
   "execution_count": 9,
   "id": "e761562d",
   "metadata": {},
   "outputs": [
    {
     "ename": "SyntaxError",
     "evalue": "incomplete input (1783523452.py, line 1)",
     "output_type": "error",
     "traceback": [
      "\u001b[1;36m  Cell \u001b[1;32mIn[9], line 1\u001b[1;36m\u001b[0m\n\u001b[1;33m    def trainAgent():\u001b[0m\n\u001b[1;37m                     ^\u001b[0m\n\u001b[1;31mSyntaxError\u001b[0m\u001b[1;31m:\u001b[0m incomplete input\n"
     ]
    }
   ],
   "source": [
    "def trainAgent():"
   ]
  },
  {
   "cell_type": "code",
   "execution_count": null,
   "id": "0689082e",
   "metadata": {},
   "outputs": [],
   "source": [
    "def testAgent():"
   ]
  },
  {
   "cell_type": "code",
   "execution_count": 6,
   "id": "262c6b74",
   "metadata": {},
   "outputs": [],
   "source": [
    "markers = check_CLicked()"
   ]
  },
  {
   "cell_type": "code",
   "execution_count": 92,
   "id": "6ce3b282",
   "metadata": {},
   "outputs": [
    {
     "data": {
      "text/plain": [
       "[[0, 0, 0], [0, 0, 0], [0, 0, 0]]"
      ]
     },
     "execution_count": 92,
     "metadata": {},
     "output_type": "execute_result"
    }
   ],
   "source": [
    "markers"
   ]
  },
  {
   "cell_type": "code",
   "execution_count": 94,
   "id": "b15285c7",
   "metadata": {},
   "outputs": [],
   "source": [
    "def logicPlayer():\n",
    "    duration = 2\n",
    "    time.sleep(duration)\n",
    "    # Create a witness to put the agent to do just one action\n",
    "    wit = False\n",
    "    y_pos = 0\n",
    "    for i in markers:\n",
    "        #rows\n",
    "        if not wit and sum(i) == 2:\n",
    "            if i[0] == 0:\n",
    "                i[0] = -1\n",
    "                \n",
    "            if i[1] == 0:\n",
    "                i[1] = -1\n",
    "                \n",
    "            if i[2] == 0:\n",
    "                i[2] = -1\n",
    "                \n",
    "        #columns\n",
    "        if not wit and markers[0][y_pos] + markers[1][y_pos] + markers[2][y_pos] == 3:\n",
    "            if not wit and markers[0][y_pos] == 0:\n",
    "                markers[0][y_pos] = -1\n",
    "                wit = True\n",
    "            if not wit and markers[1][y_pos] == 0:\n",
    "                markers[1][y_pos] = -1\n",
    "                wit = True\n",
    "            if not wit and markers[2][y_pos] == 0:\n",
    "                markers[2][y_pos] = -1\n",
    "                wit = True\n",
    "        y_pos += 1     \n",
    "                \n",
    "        # check crosses        \n",
    "        if not wit and markers[0][0] + markers[1][1] + markers[2][2]:\n",
    "            if not wit and markers[0][0] == 0:\n",
    "                markers[0][0] = -1\n",
    "                wit = True\n",
    "            if not wit and markers[1][1] == 0:\n",
    "                markers[1][1] = -1\n",
    "                wit = True\n",
    "            if not wit and markers[2][2] == 0:\n",
    "                markers[1][1] = -1\n",
    "                wit = True\n",
    "        if not wit and markers[0][2] + markers[1][1] + markers[2][0] == 2:        \n",
    "            if not wit and markers[0][2] == 0:\n",
    "                markers[0][2] = -1\n",
    "                wit = True\n",
    "            if not wit and markers[1][1] == 0:\n",
    "                markers[1][1] = -1\n",
    "                wit = True\n",
    "            if not wit and markers[2][0] == 0:\n",
    "                markers[2][0] = -1\n",
    "                wit = True"
   ]
  },
  {
   "cell_type": "code",
   "execution_count": 27,
   "id": "6a7ac4c6",
   "metadata": {},
   "outputs": [
    {
     "name": "stdout",
     "output_type": "stream",
     "text": [
      " On a[0, 0, 1]\n",
      " On a[10, 1, -12]\n",
      " On a[-16, 41, -22]\n"
     ]
    }
   ],
   "source": [
    "for i in test_m:\n",
    "    #try to stop the opponent to win\n",
    "    if sum(i) == 2:\n",
    "            if i[0] == 0:\n",
    "                i[0] = -1\n",
    "                \n",
    "            if i[1] == 0:\n",
    "                i[1] = -1\n",
    "                \n",
    "            if i[2] == 0:\n",
    "                i[2] = -1\n",
    "                \n",
    "    print(f\" On a{i}\")"
   ]
  },
  {
   "cell_type": "code",
   "execution_count": 41,
   "id": "29a78d27",
   "metadata": {},
   "outputs": [
    {
     "name": "stdout",
     "output_type": "stream",
     "text": [
      "False\n"
     ]
    }
   ],
   "source": [
    "wit = False\n",
    "if not wit:\n",
    "    print(wit)"
   ]
  },
  {
   "cell_type": "code",
   "execution_count": 7,
   "id": "3cc16168",
   "metadata": {},
   "outputs": [],
   "source": [
    "test_m = [[0, 1, 1],\n",
    "          [10, 1, -12],\n",
    "          [0, 41, 0]]"
   ]
  },
  {
   "cell_type": "code",
   "execution_count": 8,
   "id": "3859bf76",
   "metadata": {},
   "outputs": [],
   "source": [
    "wit = False"
   ]
  },
  {
   "cell_type": "code",
   "execution_count": 9,
   "id": "ffd3416f",
   "metadata": {},
   "outputs": [
    {
     "name": "stdout",
     "output_type": "stream",
     "text": [
      "0.0\n",
      " On a[-1, 1, 1]\n",
      " On a[10, 1, -12]\n",
      " On a[0, 41, 0]\n"
     ]
    }
   ],
   "source": [
    "    for i in test_m:    \n",
    "        if  not wit and test_m[0][0] + test_m[1][1] + test_m[2][2]:\n",
    "                if not wit and test_m[0][0] == 0:\n",
    "                    test_m[0][0] = -1\n",
    "                    wit = True\n",
    "                    print(\"0.0\")\n",
    "                if test_m[1][1] == 0:\n",
    "                    test_m[1][1] = -1\n",
    "                    wit = True\n",
    "                    print(\"1.1\")\n",
    "                if not wit and  test_m[2][2] == 0:\n",
    "                    test_m[2][2] = -1\n",
    "                    wit = True\n",
    "                    print(\"2.2\")\n",
    "        if not wit and test_m[0][2] + test_m[1][1] + test_m[2][0] == 2:\n",
    "                if not wit and test_m[0][2] == 0:\n",
    "                    test_m[0][2] = -1\n",
    "                    wit = True\n",
    "                    print(\"0.2\")\n",
    "                if not wit and test_m[1][1] == 0:\n",
    "                    test_m[1][1] = -1\n",
    "                    wit = True\n",
    "                    print(\"1.1\")\n",
    "                if not wit and test_m[2][0] == 0:\n",
    "                    test_m[2][0] = -1\n",
    "                    wit = True\n",
    "                    print(\"2.0\")\n",
    "        print(f\" On a{i}\")"
   ]
  },
  {
   "cell_type": "code",
   "execution_count": 34,
   "id": "f25b34b7",
   "metadata": {
    "scrolled": true
   },
   "outputs": [
    {
     "data": {
      "text/plain": [
       "[[-1, 0, 1], [10, 1, -12], [-1, 41, 1]]"
      ]
     },
     "execution_count": 34,
     "metadata": {},
     "output_type": "execute_result"
    }
   ],
   "source": [
    "test_m"
   ]
  },
  {
   "cell_type": "code",
   "execution_count": 19,
   "id": "eeb1db7b",
   "metadata": {},
   "outputs": [
    {
     "data": {
      "text/plain": [
       "20"
      ]
     },
     "execution_count": 19,
     "metadata": {},
     "output_type": "execute_result"
    }
   ],
   "source": [
    "test_m[2][y_pos]"
   ]
  },
  {
   "cell_type": "code",
   "execution_count": 10,
   "id": "c833bef8",
   "metadata": {},
   "outputs": [],
   "source": [
    "def draw_check():\n",
    "    x_pos = 0\n",
    "    for i in markers:\n",
    "        y_pos = 0\n",
    "        for j in i:\n",
    "            if j == 1:\n",
    "                p.draw.line(screen,green,(x_pos*200+50, y_pos*200+50),(x_pos*200+150, y_pos*200+150),10)\n",
    "                p.draw.line(screen,green,(x_pos*200+50, y_pos*200+150),(x_pos*200+150, y_pos*200+50),10)\n",
    "            if j == -1:\n",
    "                p.draw.circle(screen,red,(x_pos*200+100, y_pos*200+100),76, 10)    \n",
    "            y_pos += 1\n",
    "        x_pos += 1\n",
    "            \n",
    "                "
   ]
  },
  {
   "cell_type": "code",
   "execution_count": 11,
   "id": "f6312c72",
   "metadata": {},
   "outputs": [],
   "source": [
    "def winner():\n",
    "    global winner\n",
    "    global game_over\n",
    "    y_pos = 0\n",
    "    for i in markers:\n",
    "        # check rows\n",
    "        if sum(i) == 3:\n",
    "            winner = 1\n",
    "            game_over = True\n",
    "        if sum(i) == -3:\n",
    "            winner = 2\n",
    "            game_over = True\n",
    "            \n",
    "        #check column\n",
    "        if markers[0][y_pos] + markers[1][y_pos] + markers[2][y_pos] == 3:\n",
    "            winner = 1\n",
    "            game_over = True\n",
    "        if markers[0][y_pos] + markers[1][y_pos] + markers[2][y_pos] == -3:\n",
    "            winner = 2\n",
    "            game_over = True\n",
    "        y_pos += 1 \n",
    "    # check crosses\n",
    "    if markers[0][0] + markers[1][1] + markers[2][2] == 3 or markers[0][2] + markers[1][1] + markers[2][0] == 3:\n",
    "        winner = 1\n",
    "        game_over = True\n",
    "    if markers[0][0] + markers[1][1] + markers[2][2] == -3 or markers[0][2] + markers[1][1] + markers[2][0] == -3:\n",
    "        winner = 2\n",
    "        game_over = True"
   ]
  },
  {
   "cell_type": "code",
   "execution_count": 13,
   "id": "6232bdec",
   "metadata": {},
   "outputs": [
    {
     "data": {
      "text/plain": [
       "<function pygame.base.quit>"
      ]
     },
     "execution_count": 13,
     "metadata": {},
     "output_type": "execute_result"
    }
   ],
   "source": [
    "run = True\n",
    "while run:\n",
    "    \n",
    "    gameGUI()\n",
    "    draw_check()\n",
    "    \n",
    "    for event in p.event.get():\n",
    "        if event.type == p.QUIT:\n",
    "            run = False\n",
    "        if game_over == False:\n",
    "            if event.type == p.MOUSEBUTTONDOWN and clicked == False:\n",
    "                clicked = True\n",
    "                #print(\"Donw\")\n",
    "            if event.type == p.MOUSEBUTTONUP and clicked == True:\n",
    "                clicked = False\n",
    "                mouse_pos = p.mouse.get_pos()\n",
    "                x_cell = mouse_pos[0]\n",
    "                y_cell = mouse_pos[1]\n",
    "                #print(\"Up\")\n",
    "                if markers[x_cell//200][y_cell//200] == 0:\n",
    "                    markers[x_cell//200][y_cell//200] = player1\n",
    "                    player1 *= -1\n",
    "                    winner()\n",
    "            \n",
    "    p.display.update()\n",
    "    \n",
    "p.quit"
   ]
  },
  {
   "cell_type": "code",
   "execution_count": null,
   "id": "3f7ed352",
   "metadata": {},
   "outputs": [],
   "source": []
  }
 ],
 "metadata": {
  "kernelspec": {
   "display_name": "Python 3 (ipykernel)",
   "language": "python",
   "name": "python3"
  },
  "language_info": {
   "codemirror_mode": {
    "name": "ipython",
    "version": 3
   },
   "file_extension": ".py",
   "mimetype": "text/x-python",
   "name": "python",
   "nbconvert_exporter": "python",
   "pygments_lexer": "ipython3",
   "version": "3.11.4"
  }
 },
 "nbformat": 4,
 "nbformat_minor": 5
}
